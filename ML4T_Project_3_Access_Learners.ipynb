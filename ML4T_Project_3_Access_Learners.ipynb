{
  "nbformat": 4,
  "nbformat_minor": 0,
  "metadata": {
    "colab": {
      "provenance": [],
      "include_colab_link": true
    },
    "kernelspec": {
      "name": "python3",
      "display_name": "Python 3"
    },
    "language_info": {
      "name": "python"
    }
  },
  "cells": [
    {
      "cell_type": "markdown",
      "metadata": {
        "id": "view-in-github",
        "colab_type": "text"
      },
      "source": [
        "<a href=\"https://colab.research.google.com/github/YunmeiHuanghi/Mask_RCNN/blob/master/ML4T_Project_3_Access_Learners.ipynb\" target=\"_parent\"><img src=\"https://colab.research.google.com/assets/colab-badge.svg\" alt=\"Open In Colab\"/></a>"
      ]
    },
    {
      "cell_type": "code",
      "execution_count": null,
      "metadata": {
        "colab": {
          "base_uri": "https://localhost:8080/"
        },
        "id": "p79ccM7FY3wT",
        "outputId": "eac651fa-433f-4380-c12a-a41a24c3ac25"
      },
      "outputs": [
        {
          "output_type": "stream",
          "name": "stdout",
          "text": [
            "/content/assess_learners\n"
          ]
        }
      ],
      "source": [
        "!cp drive/MyDrive/ML4T_data/assess_learners_2022Spr.zip .\n",
        "_=!unzip assess_learners_2022Spr.zip\n",
        "%cd assess_learners"
      ]
    },
    {
      "cell_type": "markdown",
      "source": [
        "DTLearner"
      ],
      "metadata": {
        "id": "-qGTSvq3Za16"
      }
    },
    {
      "cell_type": "code",
      "source": [
        "import numpy as np  \t\t  \t   \t\t  \t  \t\t\t  \t\t \t\t\t     \t\t\t  \t \n",
        "  \t\t  \t   \t\t  \t  \t\t\t  \t\t \t\t\t     \t\t\t  \t \n",
        "  \t\t  \t   \t\t  \t  \t\t\t  \t\t \t\t\t     \t\t\t  \t \n",
        "class DTLearner(object):  \t\t  \t   \t\t  \t  \t\t\t  \t\t \t\t\t     \t\t\t  \t \n",
        "    \"\"\"  \t\t  \t   \t\t  \t  \t\t\t  \t\t \t\t\t     \t\t\t  \t \n",
        "    This is a Linear Regression Learner. It is implemented correctly.  \t\t  \t   \t\t  \t  \t\t\t  \t\t \t\t\t     \t\t\t  \t \n",
        "  \t\t  \t   \t\t  \t  \t\t\t  \t\t \t\t\t     \t\t\t  \t \n",
        "    :param verbose: If “verbose” is True, your code can print out information for debugging.  \t\t  \t   \t\t  \t  \t\t\t  \t\t \t\t\t     \t\t\t  \t \n",
        "        If verbose = False your code should not generate ANY output. When we test your code, verbose will be False.  \t\t  \t   \t\t  \t  \t\t\t  \t\t \t\t\t     \t\t\t  \t \n",
        "    :type verbose: bool  \t\t  \t   \t\t  \t  \t\t\t  \t\t \t\t\t     \t\t\t  \t \n",
        "    \"\"\"  \t\t  \t   \t\t  \t  \t\t\t  \t\t \t\t\t     \t\t\t  \t \n",
        "    def __init__(self, leaf_size = 1,verbose=False):  \t\t  \t   \t\t  \t  \t\t\t  \t\t \t\t\t     \t\t\t  \t \n",
        "        \"\"\"  \t\t  \t   \t\t  \t  \t\t\t  \t\t \t\t\t     \t\t\t  \t \n",
        "        Constructor method  \t\t  \t   \t\t  \t  \t\t\t  \t\t \t\t\t     \t\t\t  \t \n",
        "        \"\"\"  \t\t  \t   \t\t  \t  \t\t\t  \t\t \t\t\t     \t\t\t  \t \n",
        "        self.leaf_size = leaf_size\n",
        "        self.verbose = verbose \t\t  \t  \t\t\t  \t\t \t\t\t     \t\t\t  \t \n",
        "  \t\t  \t   \t\t  \t  \t\t\t  \t\t \t\t\t     \t\t\t  \t \n",
        "    def author(self):  \t\t  \t   \t\t  \t  \t\t\t  \t\t \t\t\t     \t\t\t  \t \n",
        "        \"\"\"  \t\t  \t   \t\t  \t  \t\t\t  \t\t \t\t\t     \t\t\t  \t \n",
        "        :return: The GT username of the student  \t\t  \t   \t\t  \t  \t\t\t  \t\t \t\t\t     \t\t\t  \t \n",
        "        :rtype: str  \t\t  \t   \t\t  \t  \t\t\t  \t\t \t\t\t     \t\t\t  \t \n",
        "        \"\"\"  \t\t  \t   \t\t  \t  \t\t\t  \t\t \t\t\t     \t\t\t  \t \n",
        "        return \"shou42\"  # replace tb34 with your Georgia Tech username\n",
        "\n",
        "\n",
        "    def col_min_sum_sq_res(self, X_col, y):\n",
        "        arg_sort_ids = np.argsort(X_col)\n",
        "        X_sorted = X_col[arg_sort_ids]\n",
        "        y_sorted = y[arg_sort_ids]\n",
        "\n",
        "        all_res_list = []\n",
        "        # go through all values\n",
        "        for x_id in range(len(X_sorted)-1):\n",
        "            # x_id split the X_sorted into two groups\n",
        "            # which are [:x_id+1] and [x_id+1:]\n",
        "            # X_sorted_left, X_sorted_right = X_sorted[:x_id+1], X_sorted[x_id+1:]\n",
        "            y_sorted_left, y_sorted_right = y_sorted[:x_id+1], y_sorted[x_id+1:]\n",
        "            # print(y_sorted_left)\n",
        "            y_mean_left, y_mean_right = y_sorted_left.mean(), y_sorted_right.mean()\n",
        "            y_res_left, y_res_right = np.sum((y_sorted_left - y_mean_left) ** 2), np.sum((y_sorted_right - y_mean_right) ** 2)\n",
        "            all_res = y_res_left + y_res_right\n",
        "            all_res_list.append(all_res)\n",
        "\n",
        "        split_point_id = np.argmin(all_res_list)\n",
        "        min_res = all_res_list[split_point_id]\n",
        "        y_left, y_right = y_sorted[:split_point_id+1], y_sorted[split_point_id+1:]\n",
        "        X_thresh = X_sorted[split_point_id] # <= X_thresh\n",
        "        return X_thresh, min_res, y_left, y_right\n",
        "\n",
        "    def pick_best_feature_id(self, X, y):\n",
        "        col_num = X.shape[1]\n",
        "        min_res_of_all_features = []\n",
        "        y_left_list = []\n",
        "        y_right_list = []\n",
        "        X_thresh_list = []\n",
        "        for col_id in range(col_num):\n",
        "            X_col = X[:,col_id]\n",
        "            X_thresh, min_res, y_left, y_right = self.col_min_sum_sq_res(X_col, y)\n",
        "            X_thresh_list.append(X_thresh)\n",
        "            min_res_of_all_features.append(min_res)\n",
        "            y_left_list.append(y_left)\n",
        "            y_right_list.append(y_right)\n",
        "\n",
        "        # print(\"min_res_of_all_features=\",min_res_of_all_features)\n",
        "        best_feature_id = np.argmin(min_res_of_all_features)\n",
        "        y_left_best = y_left_list[best_feature_id]\n",
        "        y_right_best = y_right_list[best_feature_id]\n",
        "        X_thresh_best = X_thresh_list[best_feature_id]\n",
        "        return best_feature_id, X_thresh_best, y_left_best, y_right_best\n",
        "\n",
        "    def pick_best_feature_based_on_correlation(self, X, y):\n",
        "        corr_list = []\n",
        "        for i in range(X.shape[1]):\n",
        "            corr_val = np.corrcoef(X[:,i], y)[0,1]\n",
        "            corr_list.append(np.abs(corr_val))\n",
        "        return np.argmax(corr_list)\n",
        "\n",
        "    # JR Quinlan\n",
        "    def build_tree_JR_Quinlan(self, X, y, verbose=False):\n",
        "        # if X.shape[0] == 1:\n",
        "        #     return pd.DataFrame([['leaf', 1, None, None]], columns=column_list)\n",
        "        self.log(f\"X.shape={X.shape}, y.shape={y.shape}\")\n",
        "        if y.shape[0] <= self.leaf_size:\n",
        "            assert y.shape[0] > 0, \"empty branch\"\n",
        "            pred_val = y.mean()\n",
        "            return np.array([[-1, pred_val, np.nan, np.nan]])\n",
        "        \n",
        "        \n",
        "        # determine the best feature i to split on\n",
        "        # best_feature_id, _, _, _ = pick_best_feature_id(X, y)\n",
        "        best_feature_id = self.pick_best_feature_based_on_correlation(X, y)\n",
        "        self.log(f\"best_feature_id={best_feature_id}\")\n",
        "        col = X[:, best_feature_id]\n",
        "\n",
        "        # if all X are equal, just return mean y\n",
        "        if np.all(col == col[0]):\n",
        "            # print(\"all X are same\")\n",
        "            pred_val = y.mean()\n",
        "            return np.array([[-1, pred_val, np.nan, np.nan]])\n",
        "\n",
        "        split_val = np.median(col)\n",
        "        if split_val == np.max(col):\n",
        "            # print(\"using 2nd largest as split val\")\n",
        "            # to avoid infi recursion, reset split_val to second largest\n",
        "            split_val = np.max(col[col < np.max(col)])\n",
        "\n",
        "        # print(f\"split_val={split_val}\")\n",
        "        X_left = X[col <= split_val]\n",
        "        X_right = X[col > split_val]\n",
        "        y_left = y[col <= split_val]\n",
        "        y_right = y[col > split_val]\n",
        "\n",
        "        left_tree, right_tree = None, None\n",
        "        if y_left.shape[0] > 0:\n",
        "            left_tree = self.build_tree_JR_Quinlan(X_left, y_left)\n",
        "        if y_right.shape[0] > 0:\n",
        "            right_tree = self.build_tree_JR_Quinlan(X_right, y_right)\n",
        "        root = np.array([[best_feature_id, split_val, 1, left_tree.shape[0] + 1]])\n",
        "        result = np.concatenate([s for s in [root, left_tree, right_tree] if s is not None])\n",
        "\n",
        "        return result\n",
        "\n",
        "    # inference\n",
        "    def log(self, *content):\n",
        "        if self.verbose:\n",
        "            print(' '.join([str(s) for s in content]))\n",
        "\n",
        "    def tree_predict(self, tree_array, X_col):\n",
        "        current_idx = 0\n",
        "        output = None\n",
        "        while True:\n",
        "            current_idx = int(current_idx)\n",
        "            self.log('index #',current_idx)\n",
        "            node = tree_array[current_idx,:]\n",
        "            feature = node[0]\n",
        "            if feature == -1:\n",
        "                output = node[1]\n",
        "                self.log('reach leaf node, output is', output)\n",
        "                return output\n",
        "            feature_id = int(feature)\n",
        "            comp_val = node[1]\n",
        "            target_feature_val = X_col[feature_id]\n",
        "            if target_feature_val <= comp_val:\n",
        "                jump_idx = node[2]\n",
        "                current_idx += jump_idx\n",
        "                self.log(f'value of feature {feature_id}: {target_feature_val} <= {comp_val}','move to index', current_idx)\n",
        "                continue\n",
        "            else:\n",
        "                jump_idx = node[3]\n",
        "                current_idx += jump_idx\n",
        "                self.log(f'value of feature {feature_id}: {target_feature_val} > {comp_val}','move to index', current_idx)\n",
        "                continue\t   \t\t  \t  \t\t\t  \t\t \t\t\t     \t\t\t  \t \n",
        "  \t\t  \t   \t\t  \t  \t\t\t  \t\t \t\t\t     \t\t\t  \t \n",
        "    def add_evidence(self, data_x, data_y):  \t\t  \t   \t\t  \t  \t\t\t  \t\t \t\t\t     \t\t\t  \t \n",
        "        \"\"\"  \t\t  \t   \t\t  \t  \t\t\t  \t\t \t\t\t     \t\t\t  \t \n",
        "        Add training data to learner  \t\t  \t   \t\t  \t  \t\t\t  \t\t \t\t\t     \t\t\t  \t \n",
        "  \t\t  \t   \t\t  \t  \t\t\t  \t\t \t\t\t     \t\t\t  \t \n",
        "        :param data_x: A set of feature values used to train the learner  \t\t  \t   \t\t  \t  \t\t\t  \t\t \t\t\t     \t\t\t  \t \n",
        "        :type data_x: numpy.ndarray  \t\t  \t   \t\t  \t  \t\t\t  \t\t \t\t\t     \t\t\t  \t \n",
        "        :param data_y: The value we are attempting to predict given the X data  \t\t  \t   \t\t  \t  \t\t\t  \t\t \t\t\t     \t\t\t  \t \n",
        "        :type data_y: numpy.ndarray  \t\t  \t   \t\t  \t  \t\t\t  \t\t \t\t\t     \t\t\t  \t \n",
        "        \"\"\"\n",
        "        self.tree_array = self.build_tree_JR_Quinlan(data_x, data_y)\t  \t  \t\t\t  \t\t \t\t\t     \t\t\t  \t \n",
        "        \t\t  \t   \t\t  \t  \t\t\t  \t\t \t\t\t     \t\t\t  \t \n",
        "  \t\t  \t   \t\t  \t  \t\t\t  \t\t \t\t\t     \t\t\t  \t \n",
        "    def query(self, points):  \t\t  \t   \t\t  \t  \t\t\t  \t\t \t\t\t     \t\t\t  \t \n",
        "        \"\"\"  \t\t  \t   \t\t  \t  \t\t\t  \t\t \t\t\t     \t\t\t  \t \n",
        "        Estimate a set of test points given the model we built.  \t\t  \t   \t\t  \t  \t\t\t  \t\t \t\t\t     \t\t\t  \t \n",
        "  \t\t  \t   \t\t  \t  \t\t\t  \t\t \t\t\t     \t\t\t  \t \n",
        "        :param points: A numpy array with each row corresponding to a specific query.  \t\t  \t   \t\t  \t  \t\t\t  \t\t \t\t\t     \t\t\t  \t \n",
        "        :type points: numpy.ndarray  \t\t  \t   \t\t  \t  \t\t\t  \t\t \t\t\t     \t\t\t  \t \n",
        "        :return: The predicted result of the input data according to the trained model  \t\t  \t   \t\t  \t  \t\t\t  \t\t \t\t\t     \t\t\t  \t \n",
        "        :rtype: numpy.ndarray  \t\t  \t   \t\t  \t  \t\t\t  \t\t \t\t\t     \t\t\t  \t \n",
        "        \"\"\"\n",
        "        pred_vals = []\n",
        "        num_of_rows = points.shape[0]\n",
        "        for col_idx in range(num_of_rows):\n",
        "            X_test_col = points[col_idx,:]\n",
        "\n",
        "            pred_val = self.tree_predict(self.tree_array, X_test_col)\n",
        "            pred_vals.append(pred_val)\n",
        "        return np.array(pred_vals)\n",
        "        \t  \t   \t\t  \t  \t\t\t  \t\t \t\t\t     \t\t\t  \t \n",
        "  \t\t  \t   \t\t  \t  \t\t\t  \t\t \t\t\t     \t\t\t  \t \n",
        "  \t\t  \t   \t\t  \t  \t\t\t  \t\t \t\t\t     \t\t\t  \t \n",
        "if __name__ == \"__main__\":  \t\t  \t   \t\t  \t  \t\t\t  \t\t \t\t\t     \t\t\t  \t \n",
        "    print(\"the secret clue is 'zzyzx'\")  \t\t  \t   \t\t  \t  \t\t\t  \t\t \t\t\t     \t\t\t  \t \n"
      ],
      "metadata": {
        "colab": {
          "base_uri": "https://localhost:8080/"
        },
        "id": "OSwr0dSuZLqu",
        "outputId": "e1c3032e-5ca9-47f8-97b3-e131aed52a0f"
      },
      "execution_count": null,
      "outputs": [
        {
          "output_type": "stream",
          "name": "stdout",
          "text": [
            "the secret clue is 'zzyzx'\n"
          ]
        }
      ]
    },
    {
      "cell_type": "markdown",
      "source": [
        "RTLearner"
      ],
      "metadata": {
        "id": "01fpmkE2ZgDM"
      }
    },
    {
      "cell_type": "code",
      "source": [
        "import numpy as np  \t\t  \t   \t\t  \t  \t\t\t  \t\t \t\t\t     \t\t\t  \t \n",
        "  \t\t  \t   \t\t  \t  \t\t\t  \t\t \t\t\t     \t\t\t  \t \n",
        "  \t\t  \t   \t\t  \t  \t\t\t  \t\t \t\t\t     \t\t\t  \t \n",
        "class RTLearner(object):  \t\t  \t   \t\t  \t  \t\t\t  \t\t \t\t\t     \t\t\t  \t \n",
        "    \"\"\"  \t\t  \t   \t\t  \t  \t\t\t  \t\t \t\t\t     \t\t\t  \t \n",
        "    This is a Linear Regression Learner. It is implemented correctly.  \t\t  \t   \t\t  \t  \t\t\t  \t\t \t\t\t     \t\t\t  \t \n",
        "  \t\t  \t   \t\t  \t  \t\t\t  \t\t \t\t\t     \t\t\t  \t \n",
        "    :param verbose: If “verbose” is True, your code can print out information for debugging.  \t\t  \t   \t\t  \t  \t\t\t  \t\t \t\t\t     \t\t\t  \t \n",
        "        If verbose = False your code should not generate ANY output. When we test your code, verbose will be False.  \t\t  \t   \t\t  \t  \t\t\t  \t\t \t\t\t     \t\t\t  \t \n",
        "    :type verbose: bool  \t\t  \t   \t\t  \t  \t\t\t  \t\t \t\t\t     \t\t\t  \t \n",
        "    \"\"\"  \t\t  \t   \t\t  \t  \t\t\t  \t\t \t\t\t     \t\t\t  \t \n",
        "    def __init__(self, leaf_size = 1,verbose=False):  \t\t  \t   \t\t  \t  \t\t\t  \t\t \t\t\t     \t\t\t  \t \n",
        "        \"\"\"  \t\t  \t   \t\t  \t  \t\t\t  \t\t \t\t\t     \t\t\t  \t \n",
        "        Constructor method  \t\t  \t   \t\t  \t  \t\t\t  \t\t \t\t\t     \t\t\t  \t \n",
        "        \"\"\"  \t\t  \t   \t\t  \t  \t\t\t  \t\t \t\t\t     \t\t\t  \t \n",
        "        self.leaf_size = leaf_size\n",
        "        self.verbose = verbose \t\t  \t  \t\t\t  \t\t \t\t\t     \t\t\t  \t \n",
        "  \t\t  \t   \t\t  \t  \t\t\t  \t\t \t\t\t     \t\t\t  \t \n",
        "    def author(self):  \t\t  \t   \t\t  \t  \t\t\t  \t\t \t\t\t     \t\t\t  \t \n",
        "        \"\"\"  \t\t  \t   \t\t  \t  \t\t\t  \t\t \t\t\t     \t\t\t  \t \n",
        "        :return: The GT username of the student  \t\t  \t   \t\t  \t  \t\t\t  \t\t \t\t\t     \t\t\t  \t \n",
        "        :rtype: str  \t\t  \t   \t\t  \t  \t\t\t  \t\t \t\t\t     \t\t\t  \t \n",
        "        \"\"\"  \t\t  \t   \t\t  \t  \t\t\t  \t\t \t\t\t     \t\t\t  \t \n",
        "        return \"shou42\"\n",
        "\n",
        "\n",
        "    def build_tree_random(self, X, y):\n",
        "        self.log(f\"X.shape={X.shape}, y.shape={y.shape}\")\n",
        "        if y.shape[0] <= self.leaf_size:\n",
        "            pred_val = y.mean()\n",
        "            return np.array([[-1, pred_val, np.nan, np.nan]])\n",
        "        \n",
        "        # determine random feature i to split on\n",
        "        best_feature_id = np.random.randint(low=0, high=X.shape[1])\n",
        "        self.log(f\"best_feature_id={best_feature_id}\")\n",
        "        col = X[:, best_feature_id]\n",
        "        if np.all(col == col[0]):\n",
        "            # print(\"all X are same\")\n",
        "            pred_val = y.mean()\n",
        "            return np.array([[-1, pred_val, np.nan, np.nan]])\n",
        "\n",
        "        split_id1, split_id2 = np.random.randint(low=0, high=X.shape[0], size=2)\n",
        "        split_val = (col[split_id1] + col[split_id2]) / 2\n",
        "        \n",
        "        if split_val == np.max(col):\n",
        "            # print(\"using 2nd largest as split val\")\n",
        "            # to avoid infi recursion, reset split_val to second largest\n",
        "            split_val = np.max(col[col < np.max(col)])\n",
        "\n",
        "\n",
        "        X_left = X[col <= split_val]\n",
        "        X_right = X[col > split_val]\n",
        "        y_left = y[col <= split_val]\n",
        "        y_right = y[col > split_val]\n",
        "        \n",
        "        left_tree, right_tree = None, None\n",
        "        if y_left.shape[0] > 0:\n",
        "            left_tree = self.build_tree_random(X_left, y_left)\n",
        "        if y_right.shape[0] > 0:\n",
        "            right_tree = self.build_tree_random(X_right, y_right)\n",
        "        root = np.array([[best_feature_id, split_val, 1, left_tree.shape[0] + 1]])\n",
        "        result = np.concatenate([s for s in [root, left_tree, right_tree] if s is not None])\n",
        "        return result\n",
        "\n",
        "    # inference\n",
        "    def log(self, *content):\n",
        "        if self.verbose:\n",
        "            print(' '.join([str(s) for s in content]))\n",
        "\n",
        "    def tree_predict(self, tree_array, X_col):\n",
        "        current_idx = 0\n",
        "        output = None\n",
        "        while True:\n",
        "            current_idx = int(current_idx)\n",
        "            self.log('index #',current_idx)\n",
        "            node = tree_array[current_idx,:]\n",
        "            feature = node[0]\n",
        "            if feature == -1:\n",
        "                output = node[1]\n",
        "                self.log('reach leaf node, output is', output)\n",
        "                return output\n",
        "            feature_id = int(feature)\n",
        "            comp_val = node[1]\n",
        "            target_feature_val = X_col[feature_id]\n",
        "            if target_feature_val <= comp_val:\n",
        "                jump_idx = node[2]\n",
        "                current_idx += jump_idx\n",
        "                self.log(f'value of feature {feature_id}: {target_feature_val} <= {comp_val}','move to index', current_idx)\n",
        "                continue\n",
        "            else:\n",
        "                jump_idx = node[3]\n",
        "                current_idx += jump_idx\n",
        "                self.log(f'value of feature {feature_id}: {target_feature_val} > {comp_val}','move to index', current_idx)\n",
        "                continue\t   \t\t  \t  \t\t\t  \t\t \t\t\t     \t\t\t  \t \n",
        "  \t\t  \t   \t\t  \t  \t\t\t  \t\t \t\t\t     \t\t\t  \t \n",
        "    def add_evidence(self, data_x, data_y):  \t\t  \t   \t\t  \t  \t\t\t  \t\t \t\t\t     \t\t\t  \t \n",
        "        \"\"\"  \t\t  \t   \t\t  \t  \t\t\t  \t\t \t\t\t     \t\t\t  \t \n",
        "        Add training data to learner  \t\t  \t   \t\t  \t  \t\t\t  \t\t \t\t\t     \t\t\t  \t \n",
        "  \t\t  \t   \t\t  \t  \t\t\t  \t\t \t\t\t     \t\t\t  \t \n",
        "        :param data_x: A set of feature values used to train the learner  \t\t  \t   \t\t  \t  \t\t\t  \t\t \t\t\t     \t\t\t  \t \n",
        "        :type data_x: numpy.ndarray  \t\t  \t   \t\t  \t  \t\t\t  \t\t \t\t\t     \t\t\t  \t \n",
        "        :param data_y: The value we are attempting to predict given the X data  \t\t  \t   \t\t  \t  \t\t\t  \t\t \t\t\t     \t\t\t  \t \n",
        "        :type data_y: numpy.ndarray  \t\t  \t   \t\t  \t  \t\t\t  \t\t \t\t\t     \t\t\t  \t \n",
        "        \"\"\"\n",
        "        self.tree_array = self.build_tree_random(data_x, data_y)\t  \t  \t\t\t  \t\t \t\t\t     \t\t\t  \t \n",
        "        \t\t  \t   \t\t  \t  \t\t\t  \t\t \t\t\t     \t\t\t  \t \n",
        "  \t\t  \t   \t\t  \t  \t\t\t  \t\t \t\t\t     \t\t\t  \t \n",
        "    def query(self, points):  \t\t  \t   \t\t  \t  \t\t\t  \t\t \t\t\t     \t\t\t  \t \n",
        "        \"\"\"  \t\t  \t   \t\t  \t  \t\t\t  \t\t \t\t\t     \t\t\t  \t \n",
        "        Estimate a set of test points given the model we built.  \t\t  \t   \t\t  \t  \t\t\t  \t\t \t\t\t     \t\t\t  \t \n",
        "  \t\t  \t   \t\t  \t  \t\t\t  \t\t \t\t\t     \t\t\t  \t \n",
        "        :param points: A numpy array with each row corresponding to a specific query.  \t\t  \t   \t\t  \t  \t\t\t  \t\t \t\t\t     \t\t\t  \t \n",
        "        :type points: numpy.ndarray  \t\t  \t   \t\t  \t  \t\t\t  \t\t \t\t\t     \t\t\t  \t \n",
        "        :return: The predicted result of the input data according to the trained model  \t\t  \t   \t\t  \t  \t\t\t  \t\t \t\t\t     \t\t\t  \t \n",
        "        :rtype: numpy.ndarray  \t\t  \t   \t\t  \t  \t\t\t  \t\t \t\t\t     \t\t\t  \t \n",
        "        \"\"\"\n",
        "        pred_vals = []\n",
        "        num_of_rows = points.shape[0]\n",
        "        for col_idx in range(num_of_rows):\n",
        "            X_test_col = points[col_idx,:]\n",
        "\n",
        "            pred_val = self.tree_predict(self.tree_array, X_test_col)\n",
        "            pred_vals.append(pred_val)\n",
        "        return np.array(pred_vals)\n",
        "        \t  \t   \t\t  \t  \t\t\t  \t\t \t\t\t     \t\t\t  \t \n",
        "  \t\t  \t   \t\t  \t  \t\t\t  \t\t \t\t\t     \t\t\t  \t \n",
        "  \t\t  \t   \t\t  \t  \t\t\t  \t\t \t\t\t     \t\t\t  \t \n",
        "if __name__ == \"__main__\":  \t\t  \t   \t\t  \t  \t\t\t  \t\t \t\t\t     \t\t\t  \t \n",
        "    print(\"the secret clue is 'zzyzx'\")  \t\t  \t   \t\t  \t  \t\t\t  \t\t \t\t\t     \t\t\t  \t \n"
      ],
      "metadata": {
        "colab": {
          "base_uri": "https://localhost:8080/"
        },
        "id": "L1bjQHWfZoIh",
        "outputId": "f20901d2-4224-4b81-9682-6bfc4e387819"
      },
      "execution_count": null,
      "outputs": [
        {
          "output_type": "stream",
          "name": "stdout",
          "text": [
            "the secret clue is 'zzyzx'\n"
          ]
        }
      ]
    },
    {
      "cell_type": "code",
      "source": [
        "import math\n",
        "\n",
        "filename = \"Data/ripple.csv\"\n",
        "inf = open(filename)  \t\t  \t   \t\t  \t  \t\t\t  \t\t \t\t\t     \t\t\t  \t \n",
        "data = np.array(  \t\t  \t   \t\t  \t  \t\t\t  \t\t \t\t\t     \t\t\t  \t \n",
        "    [list(map(float, s.strip().split(\",\"))) for s in inf.readlines()]  \t\t  \t   \t\t  \t  \t\t\t  \t\t \t\t\t     \t\t\t  \t \n",
        ")  \t\t  \t   \t\t  \t  \t\t\t  \t\t \t\t\t     \t\t\t  \t \n",
        "                                                    \n",
        "# compute how much of the data is training and testing  \t\t  \t   \t\t  \t  \t\t\t  \t\t \t\t\t     \t\t\t  \t \n",
        "train_rows = int(0.6 * data.shape[0])  \t\t  \t   \t\t  \t  \t\t\t  \t\t \t\t\t     \t\t\t  \t \n",
        "test_rows = data.shape[0] - train_rows  \t\t  \t   \t\t  \t  \t\t\t  \t\t \t\t\t     \t\t\t  \t \n",
        "                                                    \n",
        "# separate out training and testing data  \t\t  \t   \t\t  \t  \t\t\t  \t\t \t\t\t     \t\t\t  \t \n",
        "train_x = data[:train_rows, 0:-1]  \t\t  \t   \t\t  \t  \t\t\t  \t\t \t\t\t     \t\t\t  \t \n",
        "train_y = data[:train_rows, -1]  \t\t  \t   \t\t  \t  \t\t\t  \t\t \t\t\t     \t\t\t  \t \n",
        "test_x = data[train_rows:, 0:-1]  \t\t  \t   \t\t  \t  \t\t\t  \t\t \t\t\t     \t\t\t  \t \n",
        "test_y = data[train_rows:, -1]  \t\t  \t   \t\t  \t  \t\t\t  \t\t \t\t\t     \t\t\t  \t \n",
        "                                                    \n",
        "print(f\"{test_x.shape}\")  \t\t  \t   \t\t  \t  \t\t\t  \t\t \t\t\t     \t\t\t  \t \n",
        "print(f\"{test_y.shape}\")  \t\t  \t   \t\t  \t  \t\t\t  \t\t \t\t\t     \t\t\t  \t \n",
        "\n",
        "#############################\n",
        "print(\"RTLearner\")\n",
        "# create a learner and train it  \t\t  \t   \t\t  \t  \t\t\t  \t\t \t\t\t     \t\t\t  \t \n",
        "learner = RTLearner(leaf_size = 1, verbose=False)  # create a LinRegLearner  \t\t  \t   \t\t  \t  \t\t\t  \t\t \t\t\t     \t\t\t  \t \n",
        "learner.add_evidence(train_x, train_y)  # train it  \t\t  \t   \t\t  \t  \t\t\t  \t\t \t\t\t     \t\t\t  \t \n",
        "print(learner.author())  \t\t  \t   \t\t  \t  \t\t\t  \t\t \t\t\t     \t\t\t  \t \n",
        "                                                    \n",
        "# evaluate in sample  \t\t  \t   \t\t  \t  \t\t\t  \t\t \t\t\t     \t\t\t  \t \n",
        "pred_y = learner.query(train_x)  # get the predictions  \t\t  \t   \t\t  \t  \t\t\t  \t\t \t\t\t     \t\t\t  \t \n",
        "rmse = math.sqrt(((train_y - pred_y) ** 2).sum() / train_y.shape[0])  \t\t  \t   \t\t  \t  \t\t\t  \t\t \t\t\t     \t\t\t  \t \n",
        "print()  \t\t  \t   \t\t  \t  \t\t\t  \t\t \t\t\t     \t\t\t  \t \n",
        "print(\"In sample results\")  \t\t  \t   \t\t  \t  \t\t\t  \t\t \t\t\t     \t\t\t  \t \n",
        "print(f\"RMSE: {rmse}\")\n",
        "print(f\"pred_y.shape={pred_y.shape} and train_y.shape={train_y.shape}\")  \t\t  \t   \t\t  \t  \t\t\t  \t\t \t\t\t     \t\t\t  \t \n",
        "c = np.corrcoef(pred_y, y=train_y)  \t\t  \t   \t\t  \t  \t\t\t  \t\t \t\t\t     \t\t\t  \t \n",
        "print(f\"corr: {c[0,1]}\")  \t\t  \t   \t\t  \t  \t\t\t  \t\t \t\t\t     \t\t\t  \t \n",
        "                                                    \n",
        "# evaluate out of sample  \t\t  \t   \t\t  \t  \t\t\t  \t\t \t\t\t     \t\t\t  \t \n",
        "pred_y = learner.query(test_x)  # get the predictions  \t\t  \t   \t\t  \t  \t\t\t  \t\t \t\t\t     \t\t\t  \t \n",
        "rmse = math.sqrt(((test_y - pred_y) ** 2).sum() / test_y.shape[0])  \t\t  \t   \t\t  \t  \t\t\t  \t\t \t\t\t     \t\t\t  \t \n",
        "print()  \t\t  \t   \t\t  \t  \t\t\t  \t\t \t\t\t     \t\t\t  \t \n",
        "print(\"Out of sample results\")  \t\t  \t   \t\t  \t  \t\t\t  \t\t \t\t\t     \t\t\t  \t \n",
        "print(f\"RMSE: {rmse}\")  \t\t  \t   \t\t  \t  \t\t\t  \t\t \t\t\t     \t\t\t  \t \n",
        "c = np.corrcoef(pred_y, y=test_y)  \t\t  \t   \t\t  \t  \t\t\t  \t\t \t\t\t     \t\t\t  \t \n",
        "print(f\"corr: {c[0,1]}\")  \t\n",
        "\n",
        "\n",
        "\n",
        "\n",
        "#############################\n",
        "print(\"Bagging\")\n",
        "# create a learner and train it  \t\t  \t   \t\t  \t  \t\t\t  \t\t \t\t\t     \t\t\t  \t \n",
        "learner2 = BagLearner(RTLearner,{\"leaf_size\":1}, verbose=False)  # create a LinRegLearner  \t\t  \t   \t\t  \t  \t\t\t  \t\t \t\t\t     \t\t\t  \t \n",
        "learner2.add_evidence(train_x, train_y)  # train it  \t\t  \t   \t\t  \t  \t\t\t  \t\t \t\t\t     \t\t\t  \t \n",
        "print(learner2.author())  \t\t  \t   \t\t  \t  \t\t\t  \t\t \t\t\t     \t\t\t  \t \n",
        "                                                    \n",
        "# evaluate in sample  \t\t  \t   \t\t  \t  \t\t\t  \t\t \t\t\t     \t\t\t  \t \n",
        "pred_y = learner2.query(train_x)  # get the predictions  \t\t  \t   \t\t  \t  \t\t\t  \t\t \t\t\t     \t\t\t  \t \n",
        "rmse = math.sqrt(((train_y - pred_y) ** 2).sum() / train_y.shape[0])  \t\t  \t   \t\t  \t  \t\t\t  \t\t \t\t\t     \t\t\t  \t \n",
        "print()  \t\t  \t   \t\t  \t  \t\t\t  \t\t \t\t\t     \t\t\t  \t \n",
        "print(\"In sample results\")  \t\t  \t   \t\t  \t  \t\t\t  \t\t \t\t\t     \t\t\t  \t \n",
        "print(f\"RMSE: {rmse}\")\n",
        "print(f\"pred_y.shape={pred_y.shape} and train_y.shape={train_y.shape}\")  \t\t  \t   \t\t  \t  \t\t\t  \t\t \t\t\t     \t\t\t  \t \n",
        "c = np.corrcoef(pred_y, y=train_y)  \t\t  \t   \t\t  \t  \t\t\t  \t\t \t\t\t     \t\t\t  \t \n",
        "print(f\"corr: {c[0,1]}\")  \t\t  \t   \t\t  \t  \t\t\t  \t\t \t\t\t     \t\t\t  \t \n",
        "                                                    \n",
        "# evaluate out of sample  \t\t  \t   \t\t  \t  \t\t\t  \t\t \t\t\t     \t\t\t  \t \n",
        "pred_y = learner2.query(test_x)  # get the predictions  \t\t  \t   \t\t  \t  \t\t\t  \t\t \t\t\t     \t\t\t  \t \n",
        "rmse = math.sqrt(((test_y - pred_y) ** 2).sum() / test_y.shape[0])  \t\t  \t   \t\t  \t  \t\t\t  \t\t \t\t\t     \t\t\t  \t \n",
        "print()  \t\t  \t   \t\t  \t  \t\t\t  \t\t \t\t\t     \t\t\t  \t \n",
        "print(\"Out of sample results\")  \t\t  \t   \t\t  \t  \t\t\t  \t\t \t\t\t     \t\t\t  \t \n",
        "print(f\"RMSE: {rmse}\")  \t\t  \t   \t\t  \t  \t\t\t  \t\t \t\t\t     \t\t\t  \t \n",
        "c = np.corrcoef(pred_y, y=test_y)  \t\t  \t   \t\t  \t  \t\t\t  \t\t \t\t\t     \t\t\t  \t \n",
        "print(f\"corr: {c[0,1]}\")  "
      ],
      "metadata": {
        "colab": {
          "base_uri": "https://localhost:8080/",
          "height": 478
        },
        "id": "gZHc2jUo4L3m",
        "outputId": "d8ddcdc0-1126-4e19-c8c7-f36e5dfb3efa"
      },
      "execution_count": null,
      "outputs": [
        {
          "output_type": "stream",
          "name": "stdout",
          "text": [
            "(400, 2)\n",
            "(400,)\n",
            "RTLearner\n",
            "shou42\n",
            "\n",
            "In sample results\n",
            "RMSE: 0.0\n",
            "pred_y.shape=(600,) and train_y.shape=(600,)\n",
            "corr: 1.0\n",
            "\n",
            "Out of sample results\n",
            "RMSE: 0.5959662247896191\n",
            "corr: 0.6310309677482111\n",
            "Bagging\n"
          ]
        },
        {
          "output_type": "error",
          "ename": "NameError",
          "evalue": "ignored",
          "traceback": [
            "\u001b[0;31m---------------------------------------------------------------------------\u001b[0m",
            "\u001b[0;31mNameError\u001b[0m                                 Traceback (most recent call last)",
            "\u001b[0;32m<ipython-input-4-7251db80ca61>\u001b[0m in \u001b[0;36m<module>\u001b[0;34m()\u001b[0m\n\u001b[1;32m     52\u001b[0m \u001b[0mprint\u001b[0m\u001b[0;34m(\u001b[0m\u001b[0;34m\"Bagging\"\u001b[0m\u001b[0;34m)\u001b[0m\u001b[0;34m\u001b[0m\u001b[0;34m\u001b[0m\u001b[0m\n\u001b[1;32m     53\u001b[0m \u001b[0;31m# create a learner and train it\u001b[0m\u001b[0;34m\u001b[0m\u001b[0;34m\u001b[0m\u001b[0;34m\u001b[0m\u001b[0m\n\u001b[0;32m---> 54\u001b[0;31m \u001b[0mlearner2\u001b[0m \u001b[0;34m=\u001b[0m \u001b[0mBagLearner\u001b[0m\u001b[0;34m(\u001b[0m\u001b[0mRTLearner\u001b[0m\u001b[0;34m,\u001b[0m\u001b[0;34m{\u001b[0m\u001b[0;34m\"leaf_size\"\u001b[0m\u001b[0;34m:\u001b[0m\u001b[0;36m1\u001b[0m\u001b[0;34m}\u001b[0m\u001b[0;34m,\u001b[0m \u001b[0mverbose\u001b[0m\u001b[0;34m=\u001b[0m\u001b[0;32mFalse\u001b[0m\u001b[0;34m)\u001b[0m  \u001b[0;31m# create a LinRegLearner\u001b[0m\u001b[0;34m\u001b[0m\u001b[0;34m\u001b[0m\u001b[0m\n\u001b[0m\u001b[1;32m     55\u001b[0m \u001b[0mlearner2\u001b[0m\u001b[0;34m.\u001b[0m\u001b[0madd_evidence\u001b[0m\u001b[0;34m(\u001b[0m\u001b[0mtrain_x\u001b[0m\u001b[0;34m,\u001b[0m \u001b[0mtrain_y\u001b[0m\u001b[0;34m)\u001b[0m  \u001b[0;31m# train it\u001b[0m\u001b[0;34m\u001b[0m\u001b[0;34m\u001b[0m\u001b[0m\n\u001b[1;32m     56\u001b[0m \u001b[0mprint\u001b[0m\u001b[0;34m(\u001b[0m\u001b[0mlearner2\u001b[0m\u001b[0;34m.\u001b[0m\u001b[0mauthor\u001b[0m\u001b[0;34m(\u001b[0m\u001b[0;34m)\u001b[0m\u001b[0;34m)\u001b[0m\u001b[0;34m\u001b[0m\u001b[0;34m\u001b[0m\u001b[0m\n",
            "\u001b[0;31mNameError\u001b[0m: name 'BagLearner' is not defined"
          ]
        }
      ]
    },
    {
      "cell_type": "markdown",
      "source": [
        "In sample results\n",
        "RMSE: 0.48259611567122773\n",
        "pred_y.shape=(600,) and train_y.shape=(600,)\n",
        "corr: 0.7368103380132509\n",
        "\n",
        "Out of sample results\n",
        "RMSE: 0.6144109736732395\n",
        "corr: 0.5523185081775857"
      ],
      "metadata": {
        "id": "CFuEKVm5Gkhk"
      }
    },
    {
      "cell_type": "code",
      "source": [
        "data = train_x[:10]\n",
        "y = train_y[:10]\n",
        "data.shape, y.shape"
      ],
      "metadata": {
        "colab": {
          "base_uri": "https://localhost:8080/"
        },
        "id": "pJs4RPNE6LrE",
        "outputId": "4d5948e3-6cd2-4055-da53-e2b8c6f5c884"
      },
      "execution_count": null,
      "outputs": [
        {
          "output_type": "execute_result",
          "data": {
            "text/plain": [
              "((10, 2), (10,))"
            ]
          },
          "metadata": {},
          "execution_count": 5
        }
      ]
    },
    {
      "cell_type": "markdown",
      "source": [
        "Bagging"
      ],
      "metadata": {
        "id": "uzeR9flUZ8fH"
      }
    },
    {
      "cell_type": "code",
      "source": [
        "import numpy as np\n",
        "\n",
        "learner = RTLearner\n",
        "bags = 5\n",
        "boost = False\n",
        "verbose = False\n",
        "kwargs = {\"leaf_size\":1}\n",
        "\n",
        "####\n",
        "class BagLearner(object):\n",
        "    def __init__(self, learner, kwargs={}, bags=10, boost=False, verbose=False):\n",
        "        self.learner_list = []\n",
        "        self.boost = boost\n",
        "        self.verbose = verbose\n",
        "        for i in range(bags):\n",
        "            instance = learner(**kwargs, verbose=verbose)\n",
        "            self.learner_list.append(instance)\n",
        "        \n",
        "    def add_evidence(self, data_x, data_y):\n",
        "        subsample_idx = np.random.choice(range(data_x.shape[0]), size=data_x.shape[0], replace=True)\n",
        "        X_sampled = data_x[subsample_idx]\n",
        "        y_sampled = data_y[subsample_idx]\n",
        "        for ins in self.learner_list:\n",
        "            ins.add_evidence(X_sampled, y_sampled)\n",
        "\n",
        "    \n",
        "    def author(self):  \t\t  \t   \t\t  \t  \t\t\t  \t\t \t\t\t     \t\t\t  \t \n",
        "        \"\"\"  \t\t  \t   \t\t  \t  \t\t\t  \t\t \t\t\t     \t\t\t  \t \n",
        "        :return: The GT username of the student  \t\t  \t   \t\t  \t  \t\t\t  \t\t \t\t\t     \t\t\t  \t \n",
        "        :rtype: str  \t\t  \t   \t\t  \t  \t\t\t  \t\t \t\t\t     \t\t\t  \t \n",
        "        \"\"\"  \t\t  \t   \t\t  \t  \t\t\t  \t\t \t\t\t     \t\t\t  \t \n",
        "        return \"shou42\"\n",
        "\n",
        "    def query(self, points):\n",
        "        results = []\n",
        "        if not self.boost:\n",
        "            # bagging\n",
        "            for ins in self.learner_list:\n",
        "                results.append(ins.query(points))\n",
        "            results = np.column_stack(results)\n",
        "            mean_results = np.mean(results, axis=1)\n",
        "            \n",
        "            return mean_results\n",
        "        else:\n",
        "            pass\n"
      ],
      "metadata": {
        "id": "QpoUXCjtZ0_8"
      },
      "execution_count": null,
      "outputs": []
    },
    {
      "cell_type": "code",
      "source": [
        "import LinRegLearner as lrl"
      ],
      "metadata": {
        "id": "bTWYqAQ2Dq8H"
      },
      "execution_count": null,
      "outputs": []
    },
    {
      "cell_type": "markdown",
      "source": [
        "InsaneLearner"
      ],
      "metadata": {
        "id": "UxrtlCaNDVhm"
      }
    },
    {
      "cell_type": "code",
      "source": [
        "class InsaneLearner(object):\n",
        "    def __init__(self, verbose=False):\n",
        "        self.learner = BagLearner(BagLearner, kwargs={'learner':lrl.LinRegLearner, 'bags':20}, bags=20, verbose=verbose)\n",
        "\n",
        "    def author(self):  \t\t  \t   \t\t  \t  \t\t\t  \t\t \t\t\t     \t\t\t  \t \n",
        "        \"\"\"  \t\t  \t   \t\t  \t  \t\t\t  \t\t \t\t\t     \t\t\t  \t \n",
        "        :return: The GT username of the student  \t\t  \t   \t\t  \t  \t\t\t  \t\t \t\t\t     \t\t\t  \t \n",
        "        :rtype: str  \t\t  \t   \t\t  \t  \t\t\t  \t\t \t\t\t     \t\t\t  \t \n",
        "        \"\"\"  \t\t  \t   \t\t  \t  \t\t\t  \t\t \t\t\t     \t\t\t  \t \n",
        "        return \"shou42\"\n",
        "    \n",
        "    def add_evidence(self, data_x, data_y):\n",
        "        return self.learner.add_evidence(data_x, data_y)\n",
        "    \n",
        "    def query(self, points):\n",
        "        return self.learner.query(points)\n"
      ],
      "metadata": {
        "id": "wPLa03XDETx2"
      },
      "execution_count": null,
      "outputs": []
    },
    {
      "cell_type": "code",
      "source": [
        "# filename = \"Data/ripple.csv\"\n",
        "# inf = open(filename)  \t\t  \t   \t\t  \t  \t\t\t  \t\t \t\t\t     \t\t\t  \t \n",
        "# data = np.array(  \t\t  \t   \t\t  \t  \t\t\t  \t\t \t\t\t     \t\t\t  \t \n",
        "#     [list(map(float, s.strip().split(\",\"))) for s in inf.readlines()]  \t\t  \t   \t\t  \t  \t\t\t  \t\t \t\t\t     \t\t\t  \t \n",
        "# )  \t\t  \t   \t\t  \t  \t\t\t  \t\t \t\t\t\n",
        "\n",
        "filename = \"Data/Istanbul.csv\"\n",
        "inf = open(filename)\n",
        " \t\t  \t   \t\t  \t  \t\t\t  \t\t \t\t\t     \t\t\t  \t \n",
        "data = np.array(  \t\t  \t   \t\t  \t  \t\t\t  \t\t \t\t\t     \t\t\t  \t \n",
        "    [list(map(float, s.strip().split(\",\")[1:])) for s in inf.readlines()[1:]]  \t\t  \t   \t\t  \t  \t\t\t  \t\t \t\t\t     \t\t\t  \t \n",
        ")\n",
        "                                                    \n",
        "# compute how much of the data is training and testing  \t\t  \t   \t\t  \t  \t\t\t  \t\t \t\t\t     \t\t\t  \t \n",
        "train_rows = int(0.6 * data.shape[0])  \t\t  \t   \t\t  \t  \t\t\t  \t\t \t\t\t     \t\t\t  \t \n",
        "test_rows = data.shape[0] - train_rows  \t\t  \t   \t\t  \t  \t\t\t  \t\t \t\t\t     \t\t\t  \t \n",
        "                                                    \n",
        "# separate out training and testing data  \t\t  \t   \t\t  \t  \t\t\t  \t\t \t\t\t     \t\t\t  \t \n",
        "train_x = data[:train_rows, 0:-1]  \t\t  \t   \t\t  \t  \t\t\t  \t\t \t\t\t     \t\t\t  \t \n",
        "train_y = data[:train_rows, -1]  \t\t  \t   \t\t  \t  \t\t\t  \t\t \t\t\t     \t\t\t  \t \n",
        "test_x = data[train_rows:, 0:-1]  \t\t  \t   \t\t  \t  \t\t\t  \t\t \t\t\t     \t\t\t  \t \n",
        "test_y = data[train_rows:, -1]  \n",
        "\n",
        "insane_learner = InsaneLearner()\n",
        "insane_learner.add_evidence(train_x, train_y)\n",
        "\n",
        "# evaluate in sample  \t\t  \t   \t\t  \t  \t\t\t  \t\t \t\t\t     \t\t\t  \t \n",
        "pred_y = insane_learner.query(train_x)  # get the predictions  \t\t  \t   \t\t  \t  \t\t\t  \t\t \t\t\t     \t\t\t  \t \n",
        "rmse = math.sqrt(((train_y - pred_y) ** 2).sum() / train_y.shape[0])  \t\t  \t   \t\t  \t  \t\t\t  \t\t \t\t\t     \t\t\t  \t \n",
        "print()  \t\t  \t   \t\t  \t  \t\t\t  \t\t \t\t\t     \t\t\t  \t \n",
        "print(\"In sample results\")  \t\t  \t   \t\t  \t  \t\t\t  \t\t \t\t\t     \t\t\t  \t \n",
        "print(f\"RMSE: {rmse}\")\n",
        "print(f\"pred_y.shape={pred_y.shape} and train_y.shape={train_y.shape}\")  \t\t  \t   \t\t  \t  \t\t\t  \t\t \t\t\t     \t\t\t  \t \n",
        "c = np.corrcoef(pred_y, y=train_y)  \t\t  \t   \t\t  \t  \t\t\t  \t\t \t\t\t     \t\t\t  \t \n",
        "print(f\"corr: {c[0,1]}\")  \t\t  \t   \t\t  \t  \t\t\t  \t\t \t\t\t     \t\t\t  \t \n",
        "                                                    \n",
        "# evaluate out of sample  \t\t  \t   \t\t  \t  \t\t\t  \t\t \t\t\t     \t\t\t  \t \n",
        "pred_y = insane_learner.query(test_x)  # get the predictions  \t\t  \t   \t\t  \t  \t\t\t  \t\t \t\t\t     \t\t\t  \t \n",
        "rmse = math.sqrt(((test_y - pred_y) ** 2).sum() / test_y.shape[0])  \t\t  \t   \t\t  \t  \t\t\t  \t\t \t\t\t     \t\t\t  \t \n",
        "print()  \t\t  \t   \t\t  \t  \t\t\t  \t\t \t\t\t     \t\t\t  \t \n",
        "print(\"Out of sample results\")  \t\t  \t   \t\t  \t  \t\t\t  \t\t \t\t\t     \t\t\t  \t \n",
        "print(f\"RMSE: {rmse}\")  \t\t  \t   \t\t  \t  \t\t\t  \t\t \t\t\t     \t\t\t  \t \n",
        "c = np.corrcoef(pred_y, y=test_y)  \t\t  \t   \t\t  \t  \t\t\t  \t\t \t\t\t     \t\t\t  \t \n",
        "print(f\"corr: {c[0,1]}\")  "
      ],
      "metadata": {
        "colab": {
          "base_uri": "https://localhost:8080/"
        },
        "id": "TcMfFDlEFbQG",
        "outputId": "b0c2308c-8ad7-4073-ded4-30b64fb4c813"
      },
      "execution_count": null,
      "outputs": [
        {
          "output_type": "stream",
          "name": "stdout",
          "text": [
            "\n",
            "In sample results\n",
            "RMSE: 0.005345851299620485\n",
            "pred_y.shape=(321,) and train_y.shape=(321,)\n",
            "corr: 0.8915824016353568\n",
            "\n",
            "Out of sample results\n",
            "RMSE: 0.004071190939227556\n",
            "corr: 0.8879984226801801\n"
          ]
        }
      ]
    },
    {
      "cell_type": "code",
      "source": [
        "linear = lrl.LinRegLearner()\n",
        "linear.add_evidence(train_x, train_y)\n",
        "\n",
        "# evaluate in sample  \t\t  \t   \t\t  \t  \t\t\t  \t\t \t\t\t     \t\t\t  \t \n",
        "pred_y = linear.query(train_x)  # get the predictions  \t\t  \t   \t\t  \t  \t\t\t  \t\t \t\t\t     \t\t\t  \t \n",
        "rmse = math.sqrt(((train_y - pred_y) ** 2).sum() / train_y.shape[0])  \t\t  \t   \t\t  \t  \t\t\t  \t\t \t\t\t     \t\t\t  \t \n",
        "print()  \t\t  \t   \t\t  \t  \t\t\t  \t\t \t\t\t     \t\t\t  \t \n",
        "print(\"In sample results\")  \t\t  \t   \t\t  \t  \t\t\t  \t\t \t\t\t     \t\t\t  \t \n",
        "print(f\"RMSE: {rmse}\")\n",
        "print(f\"pred_y.shape={pred_y.shape} and train_y.shape={train_y.shape}\")  \t\t  \t   \t\t  \t  \t\t\t  \t\t \t\t\t     \t\t\t  \t \n",
        "c = np.corrcoef(pred_y, y=train_y)  \t\t  \t   \t\t  \t  \t\t\t  \t\t \t\t\t     \t\t\t  \t \n",
        "print(f\"corr: {c[0,1]}\")  \t\t  \t   \t\t  \t  \t\t\t  \t\t \t\t\t     \t\t\t  \t \n",
        "                                                    \n",
        "# evaluate out of sample  \t\t  \t   \t\t  \t  \t\t\t  \t\t \t\t\t     \t\t\t  \t \n",
        "pred_y = linear.query(test_x)  # get the predictions  \t\t  \t   \t\t  \t  \t\t\t  \t\t \t\t\t     \t\t\t  \t \n",
        "rmse = math.sqrt(((test_y - pred_y) ** 2).sum() / test_y.shape[0])  \t\t  \t   \t\t  \t  \t\t\t  \t\t \t\t\t     \t\t\t  \t \n",
        "print()  \t\t  \t   \t\t  \t  \t\t\t  \t\t \t\t\t     \t\t\t  \t \n",
        "print(\"Out of sample results\")  \t\t  \t   \t\t  \t  \t\t\t  \t\t \t\t\t     \t\t\t  \t \n",
        "print(f\"RMSE: {rmse}\")  \t\t  \t   \t\t  \t  \t\t\t  \t\t \t\t\t     \t\t\t  \t \n",
        "c = np.corrcoef(pred_y, y=test_y)  \t\t  \t   \t\t  \t  \t\t\t  \t\t \t\t\t     \t\t\t  \t \n",
        "print(f\"corr: {c[0,1]}\")  "
      ],
      "metadata": {
        "colab": {
          "base_uri": "https://localhost:8080/"
        },
        "id": "YTb5H-caGqDM",
        "outputId": "fba31133-bf98-4a8b-9a20-86859d787db4"
      },
      "execution_count": null,
      "outputs": [
        {
          "output_type": "stream",
          "name": "stdout",
          "text": [
            "\n",
            "In sample results\n",
            "RMSE: 0.00528577751920887\n",
            "pred_y.shape=(321,) and train_y.shape=(321,)\n",
            "corr: 0.8934884593618794\n",
            "\n",
            "Out of sample results\n",
            "RMSE: 0.004031405446174519\n",
            "corr: 0.8894927155188487\n"
          ]
        }
      ]
    },
    {
      "cell_type": "code",
      "source": [
        "def rmse(test_y, pred_y):\n",
        "    return math.sqrt(((test_y - pred_y) ** 2).sum() / test_y.shape[0])\n",
        "\n",
        "def mae(test_y, pred_y):\n",
        "    return np.mean(np.abs(test_y - pred_y))"
      ],
      "metadata": {
        "id": "FlRsSWwa3fX8"
      },
      "execution_count": null,
      "outputs": []
    },
    {
      "cell_type": "markdown",
      "source": [
        "## Experiment 1"
      ],
      "metadata": {
        "id": "ygi_ivDw1hiU"
      }
    },
    {
      "cell_type": "code",
      "source": [
        "import math\n",
        "\n",
        "filename = \"Data/Istanbul.csv\"\n",
        "inf = open(filename)\n",
        " \t\t  \t   \t\t  \t  \t\t\t  \t\t \t\t\t     \t\t\t  \t \n",
        "data = np.array(  \t\t  \t   \t\t  \t  \t\t\t  \t\t \t\t\t     \t\t\t  \t \n",
        "    [list(map(float, s.strip().split(\",\")[1:])) for s in inf.readlines()[1:]]  \t\t  \t   \t\t  \t  \t\t\t  \t\t \t\t\t     \t\t\t  \t \n",
        ")  \t\t  \t   \t\t  \t  \t\t\t  \t\t \t\t\t     \t\t\t  \t \n",
        "                                                    \n",
        "# compute how much of the data is training and testing  \t\t  \t   \t\t  \t  \t\t\t  \t\t \t\t\t     \t\t\t  \t \n",
        "train_rows = int(0.6 * data.shape[0])  \t\t  \t   \t\t  \t  \t\t\t  \t\t \t\t\t     \t\t\t  \t \n",
        "test_rows = data.shape[0] - train_rows  \t\t  \t   \t\t  \t  \t\t\t  \t\t \t\t\t     \t\t\t  \t \n",
        "                                                    \n",
        "# separate out training and testing data  \t\t  \t   \t\t  \t  \t\t\t  \t\t \t\t\t     \t\t\t  \t \n",
        "train_x = data[:train_rows, 0:-1]  \t\t  \t   \t\t  \t  \t\t\t  \t\t \t\t\t     \t\t\t  \t \n",
        "train_y = data[:train_rows, -1]  \t\t  \t   \t\t  \t  \t\t\t  \t\t \t\t\t     \t\t\t  \t \n",
        "test_x = data[train_rows:, 0:-1]  \t\t  \t   \t\t  \t  \t\t\t  \t\t \t\t\t     \t\t\t  \t \n",
        "test_y = data[train_rows:, -1]  "
      ],
      "metadata": {
        "id": "XH_ag6q0zg-p"
      },
      "execution_count": null,
      "outputs": []
    },
    {
      "cell_type": "code",
      "source": [
        "import matplotlib.pyplot as plt\n"
      ],
      "metadata": {
        "id": "GtriLh414pqy"
      },
      "execution_count": null,
      "outputs": []
    },
    {
      "cell_type": "code",
      "source": [
        "dt_train_errs, dt_test_errs = [], []\n",
        "leaf_sizes = range(1, 200)\n",
        "for i in leaf_sizes:\n",
        "    dt = DTLearner(i)\n",
        "    dt.add_evidence(train_x, train_y)\n",
        "    pred_y = dt.query(train_x)\n",
        "    train_err = rmse(train_y, pred_y)\n",
        "    pred_y = dt.query(test_x)\n",
        "    test_err = rmse(test_y, pred_y)\n",
        "    dt_train_errs.append(train_err)\n",
        "    dt_test_errs.append(test_err)\n",
        "\n",
        "\n",
        "plt.plot(leaf_sizes, dt_train_errs, label='train')\n",
        "plt.plot(leaf_sizes, dt_test_errs, label='test')\n",
        "plt.legend()\n",
        "plt.grid()\n",
        "plt.xlabel(\"Leaf Size\")\n",
        "plt.ylabel(\"RMSE\")\n",
        "plt.title(\"RMSE vs. Leaf Size Using Decision Tree\")\n",
        "plt.show()\n",
        "plt.savefig(\"rmse_vs_leaf_size_dt.pdf\")"
      ],
      "metadata": {
        "colab": {
          "base_uri": "https://localhost:8080/",
          "height": 382
        },
        "id": "uLidekby2kO7",
        "outputId": "97947958-6c87-46e1-8bfb-3d88030401bd"
      },
      "execution_count": null,
      "outputs": [
        {
          "output_type": "stream",
          "name": "stderr",
          "text": [
            "/usr/local/lib/python3.7/dist-packages/numpy/lib/function_base.py:2559: RuntimeWarning: invalid value encountered in true_divide\n",
            "  c /= stddev[:, None]\n",
            "/usr/local/lib/python3.7/dist-packages/numpy/lib/function_base.py:2560: RuntimeWarning: invalid value encountered in true_divide\n",
            "  c /= stddev[None, :]\n"
          ]
        },
        {
          "output_type": "display_data",
          "data": {
            "image/png": "[encoded data removed]",
            "text/plain": [
              "<Figure size 432x288 with 1 Axes>"
            ]
          },
          "metadata": {
            "needs_background": "light"
          }
        },
        {
          "output_type": "display_data",
          "data": {
            "text/plain": [
              "<Figure size 432x288 with 0 Axes>"
            ]
          },
          "metadata": {}
        }
      ]
    },
    {
      "cell_type": "markdown",
      "source": [
        "## Experiment 2"
      ],
      "metadata": {
        "id": "xZKa-OiG50ha"
      }
    },
    {
      "cell_type": "code",
      "source": [
        "train_errs, test_errs = [], []\n",
        "leaf_sizes = range(1, 200)\n",
        "for i in leaf_sizes:\n",
        "    dt = BagLearner(DTLearner, {\"leaf_size\":i}, 20)\n",
        "    dt.add_evidence(train_x, train_y)\n",
        "    pred_y = dt.query(train_x)\n",
        "    train_err = rmse(train_y, pred_y)\n",
        "    pred_y = dt.query(test_x)\n",
        "    test_err = rmse(test_y, pred_y)\n",
        "    train_errs.append(train_err)\n",
        "    test_errs.append(test_err)\n",
        "\n",
        "\n",
        "plt.plot(leaf_sizes, train_errs, label='train')\n",
        "plt.plot(leaf_sizes, test_errs, label='test')\n",
        "\n",
        "\n",
        "plt.legend()\n",
        "plt.grid()\n",
        "plt.xlabel(\"Leaf Size\")\n",
        "plt.ylabel(\"RMSE\")\n",
        "plt.title(\"RMSE vs. Leaf Size Using BagLearner (20 Decision Trees)\")\n",
        "plt.show()\n",
        "plt.savefig(\"rmse_vs_leaf_size_bag.pdf\")\n"
      ],
      "metadata": {
        "colab": {
          "base_uri": "https://localhost:8080/",
          "height": 382
        },
        "id": "zBLIUJrD51yy",
        "outputId": "c186ea41-f1d7-4c68-9014-63d81f880c6f"
      },
      "execution_count": null,
      "outputs": [
        {
          "output_type": "stream",
          "name": "stderr",
          "text": [
            "/usr/local/lib/python3.7/dist-packages/numpy/lib/function_base.py:2559: RuntimeWarning: invalid value encountered in true_divide\n",
            "  c /= stddev[:, None]\n",
            "/usr/local/lib/python3.7/dist-packages/numpy/lib/function_base.py:2560: RuntimeWarning: invalid value encountered in true_divide\n",
            "  c /= stddev[None, :]\n"
          ]
        },
        {
          "output_type": "display_data",
          "data": {
            "image/png": "[encoded data removed]",
            "text/plain": [
              "<Figure size 432x288 with 1 Axes>"
            ]
          },
          "metadata": {
            "needs_background": "light"
          }
        },
        {
          "output_type": "display_data",
          "data": {
            "text/plain": [
              "<Figure size 432x288 with 0 Axes>"
            ]
          },
          "metadata": {}
        }
      ]
    },
    {
      "cell_type": "markdown",
      "source": [
        "## Experiment 3"
      ],
      "metadata": {
        "id": "9Yp2vy_t-jHd"
      }
    },
    {
      "cell_type": "code",
      "source": [
        "# Compare DTLearner and RTLearner\n",
        "dt_train_mae, dt_test_mae = [], []\n",
        "rt_train_mae, rt_test_mae = [], []\n",
        "\n",
        "leaf_sizes = range(1, 200)\n",
        "\n",
        "for i in leaf_sizes:\n",
        "    dt = DTLearner(leaf_size=i)\n",
        "    rt = RTLearner(leaf_size=i)\n",
        "\n",
        "    dt.add_evidence(train_x, train_y)\n",
        "    rt.add_evidence(train_x, train_y)\n",
        "\n",
        "    dt_pred_y = dt.query(train_x)\n",
        "    dt_train_err = mae(train_y, dt_pred_y)\n",
        "\n",
        "    dt_pred_y = dt.query(test_x)\n",
        "    dt_test_err = mae(test_y, dt_pred_y)\n",
        "\n",
        "    rt_pred_y = rt.query(train_x)\n",
        "    rt_train_err = mae(train_y, rt_pred_y)\n",
        "\n",
        "    rt_pred_y = rt.query(test_x)\n",
        "    rt_test_err = mae(test_y, rt_pred_y)\n",
        "\n",
        "    dt_train_mae.append(dt_train_err)\n",
        "    dt_test_mae.append(dt_test_err)\n",
        "\n",
        "    rt_train_mae.append(rt_train_err)\n",
        "    rt_test_mae.append(rt_test_err)\n"
      ],
      "metadata": {
        "id": "8gOttJJX-krD",
        "colab": {
          "base_uri": "https://localhost:8080/"
        },
        "outputId": "c3632f9a-e49d-49b7-86a8-5873440f9ba4"
      },
      "execution_count": null,
      "outputs": [
        {
          "output_type": "stream",
          "name": "stderr",
          "text": [
            "/usr/local/lib/python3.7/dist-packages/numpy/lib/function_base.py:2559: RuntimeWarning: invalid value encountered in true_divide\n",
            "  c /= stddev[:, None]\n",
            "/usr/local/lib/python3.7/dist-packages/numpy/lib/function_base.py:2560: RuntimeWarning: invalid value encountered in true_divide\n",
            "  c /= stddev[None, :]\n"
          ]
        }
      ]
    },
    {
      "cell_type": "code",
      "source": [
        "plt.plot(leaf_sizes, dt_train_mae, label='dt_train')\n",
        "\n",
        "plt.plot(leaf_sizes, rt_train_mae, label='rt_train')\n",
        "\n",
        "plt.legend()\n",
        "plt.grid()\n",
        "plt.xlabel(\"Leaf Size\")\n",
        "plt.ylabel(\"MAE\")\n",
        "plt.title(\"Comparision between DT and RT (Training)\")\n",
        "plt.show()\n",
        "plt.savefig(\"mae_dt_and_rt_train.pdf\")\n",
        "\n"
      ],
      "metadata": {
        "colab": {
          "base_uri": "https://localhost:8080/"
        },
        "id": "SsL3KNrQ6U0S",
        "outputId": "f142c1b1-2e0c-4597-a493-630a6a6c8554"
      },
      "execution_count": null,
      "outputs": [
        {
          "output_type": "display_data",
          "data": {
            "image/png": "[encoded data removed]",
            "text/plain": [
              "<Figure size 432x288 with 1 Axes>"
            ]
          },
          "metadata": {
            "needs_background": "light"
          }
        },
        {
          "output_type": "display_data",
          "data": {
            "text/plain": [
              "<Figure size 432x288 with 0 Axes>"
            ]
          },
          "metadata": {}
        }
      ]
    },
    {
      "cell_type": "code",
      "source": [
        "plt.plot(leaf_sizes, dt_test_mae, label='dt_test')\n",
        "\n",
        "plt.plot(leaf_sizes, rt_test_mae, label='rt_test')\n",
        "\n",
        "plt.legend()\n",
        "plt.grid()\n",
        "plt.xlabel(\"Leaf Size\")\n",
        "plt.ylabel(\"MAE\")\n",
        "plt.title(\"Comparision between DT and RT (Test)\")\n",
        "plt.show()\n",
        "plt.savefig(\"mae_dt_and_rt_test.pdf\")"
      ],
      "metadata": {
        "colab": {
          "base_uri": "https://localhost:8080/",
          "height": 312
        },
        "id": "IsEJHr0Q7CpY",
        "outputId": "c7bc8063-5a55-47e4-b8d5-1d1d92e3b1a4"
      },
      "execution_count": null,
      "outputs": [
        {
          "output_type": "display_data",
          "data": {
            "image/png": "[encoded data removed]",
            "text/plain": [
              "<Figure size 432x288 with 1 Axes>"
            ]
          },
          "metadata": {
            "needs_background": "light"
          }
        },
        {
          "output_type": "display_data",
          "data": {
            "text/plain": [
              "<Figure size 432x288 with 0 Axes>"
            ]
          },
          "metadata": {}
        }
      ]
    },
    {
      "cell_type": "code",
      "source": [
        "BagLearner()"
      ],
      "metadata": {
        "id": "QJnVzlOj98zY"
      },
      "execution_count": null,
      "outputs": []
    },
    {
      "cell_type": "code",
      "source": [
        "s = np.arange(10)\n",
        "s"
      ],
      "metadata": {
        "colab": {
          "base_uri": "https://localhost:8080/"
        },
        "id": "GxTmQz309S3J",
        "outputId": "2886fa40-1838-4b80-c926-8a9a1070b5a6"
      },
      "execution_count": null,
      "outputs": [
        {
          "output_type": "execute_result",
          "data": {
            "text/plain": [
              "array([0, 1, 2, 3, 4, 5, 6, 7, 8, 9])"
            ]
          },
          "metadata": {},
          "execution_count": 13
        }
      ]
    },
    {
      "cell_type": "code",
      "source": [
        "s1 = np.column_stack([s,s])\n",
        "s1"
      ],
      "metadata": {
        "colab": {
          "base_uri": "https://localhost:8080/"
        },
        "id": "ChXDJAbK9W7M",
        "outputId": "16b0b256-20b4-4987-b897-08255825d14b"
      },
      "execution_count": null,
      "outputs": [
        {
          "output_type": "execute_result",
          "data": {
            "text/plain": [
              "array([[0, 0],\n",
              "       [1, 1],\n",
              "       [2, 2],\n",
              "       [3, 3],\n",
              "       [4, 4],\n",
              "       [5, 5],\n",
              "       [6, 6],\n",
              "       [7, 7],\n",
              "       [8, 8],\n",
              "       [9, 9]])"
            ]
          },
          "metadata": {},
          "execution_count": 15
        }
      ]
    },
    {
      "cell_type": "code",
      "source": [
        "s1.mean(1)"
      ],
      "metadata": {
        "colab": {
          "base_uri": "https://localhost:8080/"
        },
        "id": "9ir19NpD9upz",
        "outputId": "deef5704-f897-46a8-ccb1-440f3009f0cb"
      },
      "execution_count": null,
      "outputs": [
        {
          "output_type": "execute_result",
          "data": {
            "text/plain": [
              "array([0., 1., 2., 3., 4., 5., 6., 7., 8., 9.])"
            ]
          },
          "metadata": {},
          "execution_count": 16
        }
      ]
    }
  ]
}